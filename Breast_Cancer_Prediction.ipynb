{
  "nbformat": 4,
  "nbformat_minor": 0,
  "metadata": {
    "colab": {
      "provenance": []
    },
    "kernelspec": {
      "name": "python3",
      "display_name": "Python 3"
    },
    "language_info": {
      "name": "python"
    }
  },
  "cells": [
    {
      "cell_type": "markdown",
      "source": [
        "# **PREPARATION**\n",
        "\n",
        "\n",
        "\n",
        "1.   Instalasi dan declarasi library\n",
        "2.   Download dataset\n",
        "\n"
      ],
      "metadata": {
        "id": "NHFAU4qUYOxE"
      }
    },
    {
      "cell_type": "code",
      "source": [
        "import numpy as np \n",
        "import pandas as pd \n",
        "\n",
        "%matplotlib inline \n",
        "import matplotlib.pyplot as plt \n",
        "import matplotlib.gridspec as gridspec \n",
        "\n",
        "from sklearn.model_selection import train_test_split\n",
        "from sklearn.linear_model import LogisticRegression\n",
        "from sklearn.model_selection import KFold   \n",
        "from sklearn.ensemble import RandomForestClassifier\n",
        "from sklearn.tree import DecisionTreeClassifier, export_graphviz\n",
        "from sklearn import metrics"
      ],
      "metadata": {
        "id": "V99tKx6Xw-YE"
      },
      "execution_count": 1,
      "outputs": []
    },
    {
      "cell_type": "code",
      "execution_count": 2,
      "metadata": {
        "colab": {
          "base_uri": "https://localhost:8080/"
        },
        "id": "RrSGQGebunwW",
        "outputId": "6c2ef808-3f0e-4047-c126-3fc76b4aae5e"
      },
      "outputs": [
        {
          "output_type": "stream",
          "name": "stdout",
          "text": [
            "Looking in indexes: https://pypi.org/simple, https://us-python.pkg.dev/colab-wheels/public/simple/\n",
            "Requirement already satisfied: kaggle in /usr/local/lib/python3.7/dist-packages (1.5.12)\n",
            "Requirement already satisfied: python-slugify in /usr/local/lib/python3.7/dist-packages (from kaggle) (6.1.2)\n",
            "Requirement already satisfied: requests in /usr/local/lib/python3.7/dist-packages (from kaggle) (2.23.0)\n",
            "Requirement already satisfied: python-dateutil in /usr/local/lib/python3.7/dist-packages (from kaggle) (2.8.2)\n",
            "Requirement already satisfied: tqdm in /usr/local/lib/python3.7/dist-packages (from kaggle) (4.64.1)\n",
            "Requirement already satisfied: urllib3 in /usr/local/lib/python3.7/dist-packages (from kaggle) (1.24.3)\n",
            "Requirement already satisfied: certifi in /usr/local/lib/python3.7/dist-packages (from kaggle) (2022.9.24)\n",
            "Requirement already satisfied: six>=1.10 in /usr/local/lib/python3.7/dist-packages (from kaggle) (1.15.0)\n",
            "Requirement already satisfied: text-unidecode>=1.3 in /usr/local/lib/python3.7/dist-packages (from python-slugify->kaggle) (1.3)\n",
            "Requirement already satisfied: idna<3,>=2.5 in /usr/local/lib/python3.7/dist-packages (from requests->kaggle) (2.10)\n",
            "Requirement already satisfied: chardet<4,>=3.0.2 in /usr/local/lib/python3.7/dist-packages (from requests->kaggle) (3.0.4)\n",
            "Downloading breast-cancer-wisconsin-data.zip to /content\n",
            "  0% 0.00/48.6k [00:00<?, ?B/s]\n",
            "100% 48.6k/48.6k [00:00<00:00, 35.5MB/s]\n"
          ]
        }
      ],
      "source": [
        "!pip install kaggle\n",
        "\n",
        "import os\n",
        "os.environ['KAGGLE_USERNAME'] = \"luthfanhadihilsan\" \n",
        "os.environ['KAGGLE_KEY'] = \"40c524dbf7d7d256cd53e34126e5f256\" \n",
        "!kaggle datasets download -d uciml/breast-cancer-wisconsin-data"
      ]
    },
    {
      "cell_type": "code",
      "source": [
        "import zipfile,os\n",
        "local_zip = '/content/breast-cancer-wisconsin-data.zip'\n",
        "zip_ref = zipfile.ZipFile(local_zip, 'r')\n",
        "zip_ref.extractall('/content/data')\n",
        "zip_ref.close()"
      ],
      "metadata": {
        "id": "k57X3eClwRgO"
      },
      "execution_count": 3,
      "outputs": []
    },
    {
      "cell_type": "markdown",
      "source": [
        "# **LOAD DATA**\n",
        "\n",
        "\n",
        "1.   Explore data\n",
        "2.   Feature distribution\n",
        "3.   Target encoding\n",
        "4.   Split train and test data\n",
        "\n"
      ],
      "metadata": {
        "id": "Rc-Pr4XHYvdL"
      }
    },
    {
      "cell_type": "code",
      "source": [
        "import pandas as pd\n",
        "\n",
        "data = pd.read_csv('/content/data/data.csv')\n",
        "\n",
        "print(data.info())"
      ],
      "metadata": {
        "colab": {
          "base_uri": "https://localhost:8080/"
        },
        "id": "lX1M90E4wcHJ",
        "outputId": "d07c27e8-a8a6-442e-8630-c41736d5072b"
      },
      "execution_count": 4,
      "outputs": [
        {
          "output_type": "stream",
          "name": "stdout",
          "text": [
            "<class 'pandas.core.frame.DataFrame'>\n",
            "RangeIndex: 569 entries, 0 to 568\n",
            "Data columns (total 33 columns):\n",
            " #   Column                   Non-Null Count  Dtype  \n",
            "---  ------                   --------------  -----  \n",
            " 0   id                       569 non-null    int64  \n",
            " 1   diagnosis                569 non-null    object \n",
            " 2   radius_mean              569 non-null    float64\n",
            " 3   texture_mean             569 non-null    float64\n",
            " 4   perimeter_mean           569 non-null    float64\n",
            " 5   area_mean                569 non-null    float64\n",
            " 6   smoothness_mean          569 non-null    float64\n",
            " 7   compactness_mean         569 non-null    float64\n",
            " 8   concavity_mean           569 non-null    float64\n",
            " 9   concave points_mean      569 non-null    float64\n",
            " 10  symmetry_mean            569 non-null    float64\n",
            " 11  fractal_dimension_mean   569 non-null    float64\n",
            " 12  radius_se                569 non-null    float64\n",
            " 13  texture_se               569 non-null    float64\n",
            " 14  perimeter_se             569 non-null    float64\n",
            " 15  area_se                  569 non-null    float64\n",
            " 16  smoothness_se            569 non-null    float64\n",
            " 17  compactness_se           569 non-null    float64\n",
            " 18  concavity_se             569 non-null    float64\n",
            " 19  concave points_se        569 non-null    float64\n",
            " 20  symmetry_se              569 non-null    float64\n",
            " 21  fractal_dimension_se     569 non-null    float64\n",
            " 22  radius_worst             569 non-null    float64\n",
            " 23  texture_worst            569 non-null    float64\n",
            " 24  perimeter_worst          569 non-null    float64\n",
            " 25  area_worst               569 non-null    float64\n",
            " 26  smoothness_worst         569 non-null    float64\n",
            " 27  compactness_worst        569 non-null    float64\n",
            " 28  concavity_worst          569 non-null    float64\n",
            " 29  concave points_worst     569 non-null    float64\n",
            " 30  symmetry_worst           569 non-null    float64\n",
            " 31  fractal_dimension_worst  569 non-null    float64\n",
            " 32  Unnamed: 32              0 non-null      float64\n",
            "dtypes: float64(31), int64(1), object(1)\n",
            "memory usage: 146.8+ KB\n",
            "None\n"
          ]
        }
      ]
    },
    {
      "cell_type": "code",
      "source": [
        "data.drop('id',axis=1,inplace=True)\n",
        "data.drop('Unnamed: 32',axis=1,inplace=True)\n",
        "# size of the dataframe\n",
        "len(data)"
      ],
      "metadata": {
        "colab": {
          "base_uri": "https://localhost:8080/"
        },
        "id": "QSGBGJJt6bKt",
        "outputId": "2f31ef5e-1934-4510-a1d0-12773c4cd821"
      },
      "execution_count": 5,
      "outputs": [
        {
          "output_type": "execute_result",
          "data": {
            "text/plain": [
              "569"
            ]
          },
          "metadata": {},
          "execution_count": 5
        }
      ]
    },
    {
      "cell_type": "code",
      "source": [
        "print(data.diagnosis.unique())\n",
        "data['diagnosis'] = data['diagnosis'].map({'M':1,'B':0})\n",
        "print(data.head()) "
      ],
      "metadata": {
        "colab": {
          "base_uri": "https://localhost:8080/"
        },
        "id": "th5dZ95r6tHr",
        "outputId": "98360eb9-7e88-4607-f6f6-c302153c27fc"
      },
      "execution_count": 6,
      "outputs": [
        {
          "output_type": "stream",
          "name": "stdout",
          "text": [
            "['M' 'B']\n",
            "   diagnosis  radius_mean  texture_mean  perimeter_mean  area_mean  \\\n",
            "0          1        17.99         10.38          122.80     1001.0   \n",
            "1          1        20.57         17.77          132.90     1326.0   \n",
            "2          1        19.69         21.25          130.00     1203.0   \n",
            "3          1        11.42         20.38           77.58      386.1   \n",
            "4          1        20.29         14.34          135.10     1297.0   \n",
            "\n",
            "   smoothness_mean  compactness_mean  concavity_mean  concave points_mean  \\\n",
            "0          0.11840           0.27760          0.3001              0.14710   \n",
            "1          0.08474           0.07864          0.0869              0.07017   \n",
            "2          0.10960           0.15990          0.1974              0.12790   \n",
            "3          0.14250           0.28390          0.2414              0.10520   \n",
            "4          0.10030           0.13280          0.1980              0.10430   \n",
            "\n",
            "   symmetry_mean  ...  radius_worst  texture_worst  perimeter_worst  \\\n",
            "0         0.2419  ...         25.38          17.33           184.60   \n",
            "1         0.1812  ...         24.99          23.41           158.80   \n",
            "2         0.2069  ...         23.57          25.53           152.50   \n",
            "3         0.2597  ...         14.91          26.50            98.87   \n",
            "4         0.1809  ...         22.54          16.67           152.20   \n",
            "\n",
            "   area_worst  smoothness_worst  compactness_worst  concavity_worst  \\\n",
            "0      2019.0            0.1622             0.6656           0.7119   \n",
            "1      1956.0            0.1238             0.1866           0.2416   \n",
            "2      1709.0            0.1444             0.4245           0.4504   \n",
            "3       567.7            0.2098             0.8663           0.6869   \n",
            "4      1575.0            0.1374             0.2050           0.4000   \n",
            "\n",
            "   concave points_worst  symmetry_worst  fractal_dimension_worst  \n",
            "0                0.2654          0.4601                  0.11890  \n",
            "1                0.1860          0.2750                  0.08902  \n",
            "2                0.2430          0.3613                  0.08758  \n",
            "3                0.2575          0.6638                  0.17300  \n",
            "4                0.1625          0.2364                  0.07678  \n",
            "\n",
            "[5 rows x 31 columns]\n"
          ]
        }
      ]
    },
    {
      "cell_type": "code",
      "source": [
        "data.describe()"
      ],
      "metadata": {
        "colab": {
          "base_uri": "https://localhost:8080/",
          "height": 411
        },
        "id": "k0sYuGm67QeM",
        "outputId": "8d507b4a-2fb1-431c-ff5c-2681cc8c6a20"
      },
      "execution_count": 7,
      "outputs": [
        {
          "output_type": "execute_result",
          "data": {
            "text/plain": [
              "        diagnosis  radius_mean  texture_mean  perimeter_mean    area_mean  \\\n",
              "count  569.000000   569.000000    569.000000      569.000000   569.000000   \n",
              "mean     0.372583    14.127292     19.289649       91.969033   654.889104   \n",
              "std      0.483918     3.524049      4.301036       24.298981   351.914129   \n",
              "min      0.000000     6.981000      9.710000       43.790000   143.500000   \n",
              "25%      0.000000    11.700000     16.170000       75.170000   420.300000   \n",
              "50%      0.000000    13.370000     18.840000       86.240000   551.100000   \n",
              "75%      1.000000    15.780000     21.800000      104.100000   782.700000   \n",
              "max      1.000000    28.110000     39.280000      188.500000  2501.000000   \n",
              "\n",
              "       smoothness_mean  compactness_mean  concavity_mean  concave points_mean  \\\n",
              "count       569.000000        569.000000      569.000000           569.000000   \n",
              "mean          0.096360          0.104341        0.088799             0.048919   \n",
              "std           0.014064          0.052813        0.079720             0.038803   \n",
              "min           0.052630          0.019380        0.000000             0.000000   \n",
              "25%           0.086370          0.064920        0.029560             0.020310   \n",
              "50%           0.095870          0.092630        0.061540             0.033500   \n",
              "75%           0.105300          0.130400        0.130700             0.074000   \n",
              "max           0.163400          0.345400        0.426800             0.201200   \n",
              "\n",
              "       symmetry_mean  ...  radius_worst  texture_worst  perimeter_worst  \\\n",
              "count     569.000000  ...    569.000000     569.000000       569.000000   \n",
              "mean        0.181162  ...     16.269190      25.677223       107.261213   \n",
              "std         0.027414  ...      4.833242       6.146258        33.602542   \n",
              "min         0.106000  ...      7.930000      12.020000        50.410000   \n",
              "25%         0.161900  ...     13.010000      21.080000        84.110000   \n",
              "50%         0.179200  ...     14.970000      25.410000        97.660000   \n",
              "75%         0.195700  ...     18.790000      29.720000       125.400000   \n",
              "max         0.304000  ...     36.040000      49.540000       251.200000   \n",
              "\n",
              "        area_worst  smoothness_worst  compactness_worst  concavity_worst  \\\n",
              "count   569.000000        569.000000         569.000000       569.000000   \n",
              "mean    880.583128          0.132369           0.254265         0.272188   \n",
              "std     569.356993          0.022832           0.157336         0.208624   \n",
              "min     185.200000          0.071170           0.027290         0.000000   \n",
              "25%     515.300000          0.116600           0.147200         0.114500   \n",
              "50%     686.500000          0.131300           0.211900         0.226700   \n",
              "75%    1084.000000          0.146000           0.339100         0.382900   \n",
              "max    4254.000000          0.222600           1.058000         1.252000   \n",
              "\n",
              "       concave points_worst  symmetry_worst  fractal_dimension_worst  \n",
              "count            569.000000      569.000000               569.000000  \n",
              "mean               0.114606        0.290076                 0.083946  \n",
              "std                0.065732        0.061867                 0.018061  \n",
              "min                0.000000        0.156500                 0.055040  \n",
              "25%                0.064930        0.250400                 0.071460  \n",
              "50%                0.099930        0.282200                 0.080040  \n",
              "75%                0.161400        0.317900                 0.092080  \n",
              "max                0.291000        0.663800                 0.207500  \n",
              "\n",
              "[8 rows x 31 columns]"
            ],
            "text/html": [
              "\n",
              "  <div id=\"df-862c6218-a31e-4cdb-aa15-7d4e3a45ab09\">\n",
              "    <div class=\"colab-df-container\">\n",
              "      <div>\n",
              "<style scoped>\n",
              "    .dataframe tbody tr th:only-of-type {\n",
              "        vertical-align: middle;\n",
              "    }\n",
              "\n",
              "    .dataframe tbody tr th {\n",
              "        vertical-align: top;\n",
              "    }\n",
              "\n",
              "    .dataframe thead th {\n",
              "        text-align: right;\n",
              "    }\n",
              "</style>\n",
              "<table border=\"1\" class=\"dataframe\">\n",
              "  <thead>\n",
              "    <tr style=\"text-align: right;\">\n",
              "      <th></th>\n",
              "      <th>diagnosis</th>\n",
              "      <th>radius_mean</th>\n",
              "      <th>texture_mean</th>\n",
              "      <th>perimeter_mean</th>\n",
              "      <th>area_mean</th>\n",
              "      <th>smoothness_mean</th>\n",
              "      <th>compactness_mean</th>\n",
              "      <th>concavity_mean</th>\n",
              "      <th>concave points_mean</th>\n",
              "      <th>symmetry_mean</th>\n",
              "      <th>...</th>\n",
              "      <th>radius_worst</th>\n",
              "      <th>texture_worst</th>\n",
              "      <th>perimeter_worst</th>\n",
              "      <th>area_worst</th>\n",
              "      <th>smoothness_worst</th>\n",
              "      <th>compactness_worst</th>\n",
              "      <th>concavity_worst</th>\n",
              "      <th>concave points_worst</th>\n",
              "      <th>symmetry_worst</th>\n",
              "      <th>fractal_dimension_worst</th>\n",
              "    </tr>\n",
              "  </thead>\n",
              "  <tbody>\n",
              "    <tr>\n",
              "      <th>count</th>\n",
              "      <td>569.000000</td>\n",
              "      <td>569.000000</td>\n",
              "      <td>569.000000</td>\n",
              "      <td>569.000000</td>\n",
              "      <td>569.000000</td>\n",
              "      <td>569.000000</td>\n",
              "      <td>569.000000</td>\n",
              "      <td>569.000000</td>\n",
              "      <td>569.000000</td>\n",
              "      <td>569.000000</td>\n",
              "      <td>...</td>\n",
              "      <td>569.000000</td>\n",
              "      <td>569.000000</td>\n",
              "      <td>569.000000</td>\n",
              "      <td>569.000000</td>\n",
              "      <td>569.000000</td>\n",
              "      <td>569.000000</td>\n",
              "      <td>569.000000</td>\n",
              "      <td>569.000000</td>\n",
              "      <td>569.000000</td>\n",
              "      <td>569.000000</td>\n",
              "    </tr>\n",
              "    <tr>\n",
              "      <th>mean</th>\n",
              "      <td>0.372583</td>\n",
              "      <td>14.127292</td>\n",
              "      <td>19.289649</td>\n",
              "      <td>91.969033</td>\n",
              "      <td>654.889104</td>\n",
              "      <td>0.096360</td>\n",
              "      <td>0.104341</td>\n",
              "      <td>0.088799</td>\n",
              "      <td>0.048919</td>\n",
              "      <td>0.181162</td>\n",
              "      <td>...</td>\n",
              "      <td>16.269190</td>\n",
              "      <td>25.677223</td>\n",
              "      <td>107.261213</td>\n",
              "      <td>880.583128</td>\n",
              "      <td>0.132369</td>\n",
              "      <td>0.254265</td>\n",
              "      <td>0.272188</td>\n",
              "      <td>0.114606</td>\n",
              "      <td>0.290076</td>\n",
              "      <td>0.083946</td>\n",
              "    </tr>\n",
              "    <tr>\n",
              "      <th>std</th>\n",
              "      <td>0.483918</td>\n",
              "      <td>3.524049</td>\n",
              "      <td>4.301036</td>\n",
              "      <td>24.298981</td>\n",
              "      <td>351.914129</td>\n",
              "      <td>0.014064</td>\n",
              "      <td>0.052813</td>\n",
              "      <td>0.079720</td>\n",
              "      <td>0.038803</td>\n",
              "      <td>0.027414</td>\n",
              "      <td>...</td>\n",
              "      <td>4.833242</td>\n",
              "      <td>6.146258</td>\n",
              "      <td>33.602542</td>\n",
              "      <td>569.356993</td>\n",
              "      <td>0.022832</td>\n",
              "      <td>0.157336</td>\n",
              "      <td>0.208624</td>\n",
              "      <td>0.065732</td>\n",
              "      <td>0.061867</td>\n",
              "      <td>0.018061</td>\n",
              "    </tr>\n",
              "    <tr>\n",
              "      <th>min</th>\n",
              "      <td>0.000000</td>\n",
              "      <td>6.981000</td>\n",
              "      <td>9.710000</td>\n",
              "      <td>43.790000</td>\n",
              "      <td>143.500000</td>\n",
              "      <td>0.052630</td>\n",
              "      <td>0.019380</td>\n",
              "      <td>0.000000</td>\n",
              "      <td>0.000000</td>\n",
              "      <td>0.106000</td>\n",
              "      <td>...</td>\n",
              "      <td>7.930000</td>\n",
              "      <td>12.020000</td>\n",
              "      <td>50.410000</td>\n",
              "      <td>185.200000</td>\n",
              "      <td>0.071170</td>\n",
              "      <td>0.027290</td>\n",
              "      <td>0.000000</td>\n",
              "      <td>0.000000</td>\n",
              "      <td>0.156500</td>\n",
              "      <td>0.055040</td>\n",
              "    </tr>\n",
              "    <tr>\n",
              "      <th>25%</th>\n",
              "      <td>0.000000</td>\n",
              "      <td>11.700000</td>\n",
              "      <td>16.170000</td>\n",
              "      <td>75.170000</td>\n",
              "      <td>420.300000</td>\n",
              "      <td>0.086370</td>\n",
              "      <td>0.064920</td>\n",
              "      <td>0.029560</td>\n",
              "      <td>0.020310</td>\n",
              "      <td>0.161900</td>\n",
              "      <td>...</td>\n",
              "      <td>13.010000</td>\n",
              "      <td>21.080000</td>\n",
              "      <td>84.110000</td>\n",
              "      <td>515.300000</td>\n",
              "      <td>0.116600</td>\n",
              "      <td>0.147200</td>\n",
              "      <td>0.114500</td>\n",
              "      <td>0.064930</td>\n",
              "      <td>0.250400</td>\n",
              "      <td>0.071460</td>\n",
              "    </tr>\n",
              "    <tr>\n",
              "      <th>50%</th>\n",
              "      <td>0.000000</td>\n",
              "      <td>13.370000</td>\n",
              "      <td>18.840000</td>\n",
              "      <td>86.240000</td>\n",
              "      <td>551.100000</td>\n",
              "      <td>0.095870</td>\n",
              "      <td>0.092630</td>\n",
              "      <td>0.061540</td>\n",
              "      <td>0.033500</td>\n",
              "      <td>0.179200</td>\n",
              "      <td>...</td>\n",
              "      <td>14.970000</td>\n",
              "      <td>25.410000</td>\n",
              "      <td>97.660000</td>\n",
              "      <td>686.500000</td>\n",
              "      <td>0.131300</td>\n",
              "      <td>0.211900</td>\n",
              "      <td>0.226700</td>\n",
              "      <td>0.099930</td>\n",
              "      <td>0.282200</td>\n",
              "      <td>0.080040</td>\n",
              "    </tr>\n",
              "    <tr>\n",
              "      <th>75%</th>\n",
              "      <td>1.000000</td>\n",
              "      <td>15.780000</td>\n",
              "      <td>21.800000</td>\n",
              "      <td>104.100000</td>\n",
              "      <td>782.700000</td>\n",
              "      <td>0.105300</td>\n",
              "      <td>0.130400</td>\n",
              "      <td>0.130700</td>\n",
              "      <td>0.074000</td>\n",
              "      <td>0.195700</td>\n",
              "      <td>...</td>\n",
              "      <td>18.790000</td>\n",
              "      <td>29.720000</td>\n",
              "      <td>125.400000</td>\n",
              "      <td>1084.000000</td>\n",
              "      <td>0.146000</td>\n",
              "      <td>0.339100</td>\n",
              "      <td>0.382900</td>\n",
              "      <td>0.161400</td>\n",
              "      <td>0.317900</td>\n",
              "      <td>0.092080</td>\n",
              "    </tr>\n",
              "    <tr>\n",
              "      <th>max</th>\n",
              "      <td>1.000000</td>\n",
              "      <td>28.110000</td>\n",
              "      <td>39.280000</td>\n",
              "      <td>188.500000</td>\n",
              "      <td>2501.000000</td>\n",
              "      <td>0.163400</td>\n",
              "      <td>0.345400</td>\n",
              "      <td>0.426800</td>\n",
              "      <td>0.201200</td>\n",
              "      <td>0.304000</td>\n",
              "      <td>...</td>\n",
              "      <td>36.040000</td>\n",
              "      <td>49.540000</td>\n",
              "      <td>251.200000</td>\n",
              "      <td>4254.000000</td>\n",
              "      <td>0.222600</td>\n",
              "      <td>1.058000</td>\n",
              "      <td>1.252000</td>\n",
              "      <td>0.291000</td>\n",
              "      <td>0.663800</td>\n",
              "      <td>0.207500</td>\n",
              "    </tr>\n",
              "  </tbody>\n",
              "</table>\n",
              "<p>8 rows × 31 columns</p>\n",
              "</div>\n",
              "      <button class=\"colab-df-convert\" onclick=\"convertToInteractive('df-862c6218-a31e-4cdb-aa15-7d4e3a45ab09')\"\n",
              "              title=\"Convert this dataframe to an interactive table.\"\n",
              "              style=\"display:none;\">\n",
              "        \n",
              "  <svg xmlns=\"http://www.w3.org/2000/svg\" height=\"24px\"viewBox=\"0 0 24 24\"\n",
              "       width=\"24px\">\n",
              "    <path d=\"M0 0h24v24H0V0z\" fill=\"none\"/>\n",
              "    <path d=\"M18.56 5.44l.94 2.06.94-2.06 2.06-.94-2.06-.94-.94-2.06-.94 2.06-2.06.94zm-11 1L8.5 8.5l.94-2.06 2.06-.94-2.06-.94L8.5 2.5l-.94 2.06-2.06.94zm10 10l.94 2.06.94-2.06 2.06-.94-2.06-.94-.94-2.06-.94 2.06-2.06.94z\"/><path d=\"M17.41 7.96l-1.37-1.37c-.4-.4-.92-.59-1.43-.59-.52 0-1.04.2-1.43.59L10.3 9.45l-7.72 7.72c-.78.78-.78 2.05 0 2.83L4 21.41c.39.39.9.59 1.41.59.51 0 1.02-.2 1.41-.59l7.78-7.78 2.81-2.81c.8-.78.8-2.07 0-2.86zM5.41 20L4 18.59l7.72-7.72 1.47 1.35L5.41 20z\"/>\n",
              "  </svg>\n",
              "      </button>\n",
              "      \n",
              "  <style>\n",
              "    .colab-df-container {\n",
              "      display:flex;\n",
              "      flex-wrap:wrap;\n",
              "      gap: 12px;\n",
              "    }\n",
              "\n",
              "    .colab-df-convert {\n",
              "      background-color: #E8F0FE;\n",
              "      border: none;\n",
              "      border-radius: 50%;\n",
              "      cursor: pointer;\n",
              "      display: none;\n",
              "      fill: #1967D2;\n",
              "      height: 32px;\n",
              "      padding: 0 0 0 0;\n",
              "      width: 32px;\n",
              "    }\n",
              "\n",
              "    .colab-df-convert:hover {\n",
              "      background-color: #E2EBFA;\n",
              "      box-shadow: 0px 1px 2px rgba(60, 64, 67, 0.3), 0px 1px 3px 1px rgba(60, 64, 67, 0.15);\n",
              "      fill: #174EA6;\n",
              "    }\n",
              "\n",
              "    [theme=dark] .colab-df-convert {\n",
              "      background-color: #3B4455;\n",
              "      fill: #D2E3FC;\n",
              "    }\n",
              "\n",
              "    [theme=dark] .colab-df-convert:hover {\n",
              "      background-color: #434B5C;\n",
              "      box-shadow: 0px 1px 3px 1px rgba(0, 0, 0, 0.15);\n",
              "      filter: drop-shadow(0px 1px 2px rgba(0, 0, 0, 0.3));\n",
              "      fill: #FFFFFF;\n",
              "    }\n",
              "  </style>\n",
              "\n",
              "      <script>\n",
              "        const buttonEl =\n",
              "          document.querySelector('#df-862c6218-a31e-4cdb-aa15-7d4e3a45ab09 button.colab-df-convert');\n",
              "        buttonEl.style.display =\n",
              "          google.colab.kernel.accessAllowed ? 'block' : 'none';\n",
              "\n",
              "        async function convertToInteractive(key) {\n",
              "          const element = document.querySelector('#df-862c6218-a31e-4cdb-aa15-7d4e3a45ab09');\n",
              "          const dataTable =\n",
              "            await google.colab.kernel.invokeFunction('convertToInteractive',\n",
              "                                                     [key], {});\n",
              "          if (!dataTable) return;\n",
              "\n",
              "          const docLinkHtml = 'Like what you see? Visit the ' +\n",
              "            '<a target=\"_blank\" href=https://colab.research.google.com/notebooks/data_table.ipynb>data table notebook</a>'\n",
              "            + ' to learn more about interactive tables.';\n",
              "          element.innerHTML = '';\n",
              "          dataTable['output_type'] = 'display_data';\n",
              "          await google.colab.output.renderOutput(dataTable, element);\n",
              "          const docLink = document.createElement('div');\n",
              "          docLink.innerHTML = docLinkHtml;\n",
              "          element.appendChild(docLink);\n",
              "        }\n",
              "      </script>\n",
              "    </div>\n",
              "  </div>\n",
              "  "
            ]
          },
          "metadata": {},
          "execution_count": 7
        }
      ]
    },
    {
      "cell_type": "code",
      "source": [
        "count = data['diagnosis'].value_counts()\n",
        "print(count)\n",
        "\n",
        "#plt.bar()\n",
        "plt.bar(['B','M'],count)\n",
        "plt.title('Diagnosis')\n",
        "plt.show()"
      ],
      "metadata": {
        "colab": {
          "base_uri": "https://localhost:8080/",
          "height": 333
        },
        "id": "zSkiOvUa7VbI",
        "outputId": "67d820aa-d8cc-4402-c1d6-a92cff00ae8b"
      },
      "execution_count": 8,
      "outputs": [
        {
          "output_type": "stream",
          "name": "stdout",
          "text": [
            "0    357\n",
            "1    212\n",
            "Name: diagnosis, dtype: int64\n"
          ]
        },
        {
          "output_type": "display_data",
          "data": {
            "text/plain": [
              "<Figure size 432x288 with 1 Axes>"
            ],
            "image/png": "[encoded data removed]"
          },
          "metadata": {
            "needs_background": "light"
          }
        }
      ]
    },
    {
      "cell_type": "code",
      "source": [
        "feature_mean = list(data.columns[1:11])\n",
        "datam = data[data['diagnosis'] == 1]\n",
        "datab = data[data['diagnosis'] == 0]"
      ],
      "metadata": {
        "id": "neCYCaBm9L4N"
      },
      "execution_count": 9,
      "outputs": []
    },
    {
      "cell_type": "code",
      "source": [
        "#Stack the data\n",
        "plt.rcParams.update({'font.size': 8})\n",
        "fig, axes = plt.subplots(nrows=5, ncols=2, figsize=(8,10))\n",
        "axes = axes.ravel()\n",
        "for idx,ax in enumerate(axes):\n",
        "    ax.figure\n",
        "    binwidth= (max(data[feature_mean[idx]]) - min(data[feature_mean[idx]]))/50\n",
        "    ax.hist([datam[feature_mean[idx]],datab[feature_mean[idx]]], bins=np.arange(min(data[feature_mean[idx]]), max(data[feature_mean[idx]]) + binwidth, binwidth) , alpha=0.5,stacked=True, label=['M','B'],color=['r','g'])\n",
        "    ax.legend(loc='upper right')\n",
        "    ax.set_title(feature_mean[idx])\n",
        "plt.tight_layout()\n",
        "plt.show()"
      ],
      "metadata": {
        "colab": {
          "base_uri": "https://localhost:8080/",
          "height": 0
        },
        "id": "crmS2j-V9gnF",
        "outputId": "07b39a24-f7d9-4d83-c13e-0a1c0169b39d"
      },
      "execution_count": 10,
      "outputs": [
        {
          "output_type": "stream",
          "name": "stderr",
          "text": [
            "/usr/local/lib/python3.7/dist-packages/numpy/core/fromnumeric.py:3208: VisibleDeprecationWarning: Creating an ndarray from ragged nested sequences (which is a list-or-tuple of lists-or-tuples-or ndarrays with different lengths or shapes) is deprecated. If you meant to do this, you must specify 'dtype=object' when creating the ndarray.\n",
            "  return asarray(a).size\n",
            "/usr/local/lib/python3.7/dist-packages/matplotlib/cbook/__init__.py:1376: VisibleDeprecationWarning: Creating an ndarray from ragged nested sequences (which is a list-or-tuple of lists-or-tuples-or ndarrays with different lengths or shapes) is deprecated. If you meant to do this, you must specify 'dtype=object' when creating the ndarray.\n",
            "  X = np.atleast_1d(X.T if isinstance(X, np.ndarray) else np.asarray(X))\n"
          ]
        },
        {
          "output_type": "display_data",
          "data": {
            "text/plain": [
              "<Figure size 576x720 with 10 Axes>"
            ],
            "image/png": "[encoded data removed]"
          },
          "metadata": {
            "needs_background": "light"
          }
        }
      ]
    },
    {
      "cell_type": "code",
      "source": [
        "traindata, testdata = train_test_split(data, test_size = 0.2)"
      ],
      "metadata": {
        "id": "zGFxkHiqHAAj"
      },
      "execution_count": 11,
      "outputs": []
    },
    {
      "cell_type": "markdown",
      "source": [
        "# **PREDICTIVE MODEL**\n",
        "\n",
        "\n",
        "\n",
        "1.   Create funtion for training and validation\n",
        "2.   Logistic Regression\n",
        "3.   RandomForestClassifier\n",
        "\n"
      ],
      "metadata": {
        "id": "1iDpQNJvb7XN"
      }
    },
    {
      "cell_type": "code",
      "source": [
        "from sklearn.model_selection import cross_validate\n",
        "def cross_validation(model, _X, _y, _cv=5):\n",
        "      '''Function to perform 5 Folds Cross-Validation\n",
        "       Parameters\n",
        "       ----------\n",
        "      model: Python Class, default=None\n",
        "              This is the machine learning algorithm to be used for training.\n",
        "      _X: array\n",
        "           This is the matrix of features.\n",
        "      _y: array\n",
        "           This is the target variable.\n",
        "      _cv: int, default=5\n",
        "          Determines the number of folds for cross-validation.\n",
        "       Returns\n",
        "       -------\n",
        "       The function returns a dictionary containing the metrics 'accuracy', 'precision',\n",
        "       'recall', 'f1' for both training set and validation set.\n",
        "      '''\n",
        "      _scoring = ['accuracy', 'precision', 'recall', 'f1']\n",
        "      results = cross_validate(estimator=model,\n",
        "                               X=_X,\n",
        "                               y=_y,\n",
        "                               cv=_cv,\n",
        "                               scoring=_scoring,\n",
        "                               return_train_score=True)\n",
        "      \n",
        "      return {\"Training Accuracy scores\": results['train_accuracy'],\n",
        "              \"Mean Training Accuracy\": results['train_accuracy'].mean()*100,\n",
        "              \"Training Precision scores\": results['train_precision'],\n",
        "              \"Mean Training Precision\": results['train_precision'].mean(),\n",
        "              \"Training Recall scores\": results['train_recall'],\n",
        "              \"Mean Training Recall\": results['train_recall'].mean(),\n",
        "              \"Training F1 scores\": results['train_f1'],\n",
        "              \"Mean Training F1 Score\": results['train_f1'].mean(),\n",
        "              \"Validation Accuracy scores\": results['test_accuracy'],\n",
        "              \"Mean Validation Accuracy\": results['test_accuracy'].mean()*100,\n",
        "              \"Validation Precision scores\": results['test_precision'],\n",
        "              \"Mean Validation Precision\": results['test_precision'].mean()*100,\n",
        "              \"Validation Recall scores\": results['test_recall'],\n",
        "              \"Mean Validation Recall\": results['test_recall'].mean()*100,\n",
        "              \"Validation F1 scores\": results['test_f1'],\n",
        "              \"Mean Validation F1 Score\": results['test_f1'].mean()*100\n",
        "              }\n",
        "\n",
        "def classification_model(model, data, data_test, predictors, outcome):\n",
        "  \n",
        "  model.fit(data[predictors],data[outcome])\n",
        " \n",
        "  predictions = model.predict(data[predictors])\n",
        "\n",
        "  accuracy = metrics.accuracy_score(predictions,data[outcome])\n",
        "  print(\"Accuracy : %s\" % \"{0:.3%}\".format(accuracy))\n",
        "\n",
        "  validation = cross_validation(model, data_test[predictors], data_test[outcome])\n",
        "  print('Model mean-Accuracy score with cross validation : ',validation['Mean Validation Accuracy'])\n",
        "  print('Model mean-Precision score with cross validation : ',validation['Mean Validation Precision'])\n",
        "  print('Model mean-Recall score with cross validation : ',validation['Mean Validation Recall'])\n",
        "  print('Model mean-F1 score with cross validation : ',validation['Mean Validation F1 Score'])\n",
        "  model.fit(data[predictors],data[outcome]) "
      ],
      "metadata": {
        "id": "unuF8RqWHTrv"
      },
      "execution_count": 19,
      "outputs": []
    },
    {
      "cell_type": "code",
      "source": [
        "predictor_var = ['radius_mean','perimeter_mean','area_mean','compactness_mean','concave points_mean']\n",
        "outcome_var='diagnosis'\n",
        "model=LogisticRegression()\n",
        "classification_model(model,traindata,testdata,predictor_var,outcome_var)"
      ],
      "metadata": {
        "colab": {
          "base_uri": "https://localhost:8080/"
        },
        "id": "cCYVIbcVHZDx",
        "outputId": "34982ca8-5a93-48c8-b07c-f4014357d0e5"
      },
      "execution_count": 20,
      "outputs": [
        {
          "output_type": "stream",
          "name": "stdout",
          "text": [
            "Accuracy : 89.890%\n",
            "Model mean-Accuracy score with cross validation :  85.9288537549407\n",
            "Model mean-Precision score with cross validation :  84.16666666666666\n",
            "Model mean-Recall score with cross validation :  78.33333333333333\n",
            "Model mean-F1 score with cross validation :  80.296820482579\n"
          ]
        },
        {
          "output_type": "stream",
          "name": "stderr",
          "text": [
            "/usr/local/lib/python3.7/dist-packages/sklearn/linear_model/_logistic.py:818: ConvergenceWarning: lbfgs failed to converge (status=1):\n",
            "STOP: TOTAL NO. of ITERATIONS REACHED LIMIT.\n",
            "\n",
            "Increase the number of iterations (max_iter) or scale the data as shown in:\n",
            "    https://scikit-learn.org/stable/modules/preprocessing.html\n",
            "Please also refer to the documentation for alternative solver options:\n",
            "    https://scikit-learn.org/stable/modules/linear_model.html#logistic-regression\n",
            "  extra_warning_msg=_LOGISTIC_SOLVER_CONVERGENCE_MSG,\n"
          ]
        }
      ]
    },
    {
      "cell_type": "code",
      "source": [
        "predictor_var = feature_mean\n",
        "print(predictor_var)\n",
        "model = RandomForestClassifier(n_estimators=100,min_samples_split=25, max_depth=7, max_features=2)\n",
        "classification_model(model, traindata,testdata ,predictor_var,outcome_var)"
      ],
      "metadata": {
        "colab": {
          "base_uri": "https://localhost:8080/"
        },
        "id": "-L1ApabbXDie",
        "outputId": "2030e653-a22a-43ea-dbff-e83d5e16c85e"
      },
      "execution_count": 21,
      "outputs": [
        {
          "output_type": "stream",
          "name": "stdout",
          "text": [
            "['radius_mean', 'texture_mean', 'perimeter_mean', 'area_mean', 'smoothness_mean', 'compactness_mean', 'concavity_mean', 'concave points_mean', 'symmetry_mean', 'fractal_dimension_mean']\n",
            "Accuracy : 96.044%\n",
            "Model mean-Accuracy score with cross validation :  90.35573122529644\n",
            "Model mean-Precision score with cross validation :  88.5\n",
            "Model mean-Recall score with cross validation :  85.83333333333331\n",
            "Model mean-F1 score with cross validation :  86.97936016511868\n"
          ]
        }
      ]
    }
  ]
}